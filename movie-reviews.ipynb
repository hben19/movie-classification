{
 "cells": [
  {
   "cell_type": "markdown",
   "metadata": {
    "id": "x3H726mBjA0L"
   },
   "source": [
    "# Classifying movie reviews as positive or negative.\n",
    "\n",
    "> Binary classifaction is one of the most frequently used machine learning problem. In this example I will classify movie reviews from IMDB as positive or negative according to the review's text content.\n",
    "\n",
    "\n",
    "\n"
   ]
  },
  {
   "cell_type": "markdown",
   "metadata": {
    "id": "c76FIpGz37OU"
   },
   "source": [
    "## 1. Loading IMDB Dataset\n",
    "\n",
    "\n",
    "---\n",
    "\n",
    "To start with firstly, we need to load the dataset with the following code, the dataset comes with the keras package so we just need to simple import it. For this model I will use hold-out validation. This IMDB dataset consists of 50,000 reviews and they are split into 25,000 reviews for training set and 25,000 reviews for validation. It is important to set a set side a validation data to see if the model performs well on a never seen dataset. By setting num_words to 10,000 we are selecting the 10,000 most frequently used words."
   ]
  },
  {
   "cell_type": "code",
   "execution_count": 1,
   "metadata": {
    "id": "RHosB4e-jA0M"
   },
   "outputs": [],
   "source": [
    "from tensorflow.keras.datasets import imdb\n",
    "(train_data, train_labels), (test_data, test_labels) = imdb.load_data(\n",
    "num_words=10000)"
   ]
  },
  {
   "cell_type": "markdown",
   "metadata": {
    "id": "eFmFTt0j74uP"
   },
   "source": [
    "> train_data and test_data are a list of 25,000 reviews both of them are 2D arrays where train_data[x] is a specific review and train_data[x][y] is a word decoded into an intiger (as the number of words have been limited to 10.000 the maximum number what a word could have been decoded is 9999).\n",
    "\n",
    "\n"
   ]
  },
  {
   "cell_type": "code",
   "execution_count": 2,
   "metadata": {
    "colab": {
     "base_uri": "https://localhost:8080/"
    },
    "id": "-YFTuzya6nwO",
    "outputId": "88c6630c-fce0-4d58-c1a7-7c96b55165c9"
   },
   "outputs": [
    {
     "name": "stdout",
     "output_type": "stream",
     "text": [
      "Length of train_data:  25000\n"
     ]
    },
    {
     "data": {
      "text/plain": [
       "array([list([1, 14, 22, 16, 43, 530, 973, 1622, 1385, 65, 458, 4468, 66, 3941, 4, 173, 36, 256, 5, 25, 100, 43, 838, 112, 50, 670, 2, 9, 35, 480, 284, 5, 150, 4, 172, 112, 167, 2, 336, 385, 39, 4, 172, 4536, 1111, 17, 546, 38, 13, 447, 4, 192, 50, 16, 6, 147, 2025, 19, 14, 22, 4, 1920, 4613, 469, 4, 22, 71, 87, 12, 16, 43, 530, 38, 76, 15, 13, 1247, 4, 22, 17, 515, 17, 12, 16, 626, 18, 2, 5, 62, 386, 12, 8, 316, 8, 106, 5, 4, 2223, 5244, 16, 480, 66, 3785, 33, 4, 130, 12, 16, 38, 619, 5, 25, 124, 51, 36, 135, 48, 25, 1415, 33, 6, 22, 12, 215, 28, 77, 52, 5, 14, 407, 16, 82, 2, 8, 4, 107, 117, 5952, 15, 256, 4, 2, 7, 3766, 5, 723, 36, 71, 43, 530, 476, 26, 400, 317, 46, 7, 4, 2, 1029, 13, 104, 88, 4, 381, 15, 297, 98, 32, 2071, 56, 26, 141, 6, 194, 7486, 18, 4, 226, 22, 21, 134, 476, 26, 480, 5, 144, 30, 5535, 18, 51, 36, 28, 224, 92, 25, 104, 4, 226, 65, 16, 38, 1334, 88, 12, 16, 283, 5, 16, 4472, 113, 103, 32, 15, 16, 5345, 19, 178, 32]),\n",
       "       list([1, 194, 1153, 194, 8255, 78, 228, 5, 6, 1463, 4369, 5012, 134, 26, 4, 715, 8, 118, 1634, 14, 394, 20, 13, 119, 954, 189, 102, 5, 207, 110, 3103, 21, 14, 69, 188, 8, 30, 23, 7, 4, 249, 126, 93, 4, 114, 9, 2300, 1523, 5, 647, 4, 116, 9, 35, 8163, 4, 229, 9, 340, 1322, 4, 118, 9, 4, 130, 4901, 19, 4, 1002, 5, 89, 29, 952, 46, 37, 4, 455, 9, 45, 43, 38, 1543, 1905, 398, 4, 1649, 26, 6853, 5, 163, 11, 3215, 2, 4, 1153, 9, 194, 775, 7, 8255, 2, 349, 2637, 148, 605, 2, 8003, 15, 123, 125, 68, 2, 6853, 15, 349, 165, 4362, 98, 5, 4, 228, 9, 43, 2, 1157, 15, 299, 120, 5, 120, 174, 11, 220, 175, 136, 50, 9, 4373, 228, 8255, 5, 2, 656, 245, 2350, 5, 4, 9837, 131, 152, 491, 18, 2, 32, 7464, 1212, 14, 9, 6, 371, 78, 22, 625, 64, 1382, 9, 8, 168, 145, 23, 4, 1690, 15, 16, 4, 1355, 5, 28, 6, 52, 154, 462, 33, 89, 78, 285, 16, 145, 95]),\n",
       "       list([1, 14, 47, 8, 30, 31, 7, 4, 249, 108, 7, 4, 5974, 54, 61, 369, 13, 71, 149, 14, 22, 112, 4, 2401, 311, 12, 16, 3711, 33, 75, 43, 1829, 296, 4, 86, 320, 35, 534, 19, 263, 4821, 1301, 4, 1873, 33, 89, 78, 12, 66, 16, 4, 360, 7, 4, 58, 316, 334, 11, 4, 1716, 43, 645, 662, 8, 257, 85, 1200, 42, 1228, 2578, 83, 68, 3912, 15, 36, 165, 1539, 278, 36, 69, 2, 780, 8, 106, 14, 6905, 1338, 18, 6, 22, 12, 215, 28, 610, 40, 6, 87, 326, 23, 2300, 21, 23, 22, 12, 272, 40, 57, 31, 11, 4, 22, 47, 6, 2307, 51, 9, 170, 23, 595, 116, 595, 1352, 13, 191, 79, 638, 89, 2, 14, 9, 8, 106, 607, 624, 35, 534, 6, 227, 7, 129, 113]),\n",
       "       ...,\n",
       "       list([1, 11, 6, 230, 245, 6401, 9, 6, 1225, 446, 2, 45, 2174, 84, 8322, 4007, 21, 4, 912, 84, 2, 325, 725, 134, 2, 1715, 84, 5, 36, 28, 57, 1099, 21, 8, 140, 8, 703, 5, 2, 84, 56, 18, 1644, 14, 9, 31, 7, 4, 9406, 1209, 2295, 2, 1008, 18, 6, 20, 207, 110, 563, 12, 8, 2901, 2, 8, 97, 6, 20, 53, 4767, 74, 4, 460, 364, 1273, 29, 270, 11, 960, 108, 45, 40, 29, 2961, 395, 11, 6, 4065, 500, 7, 2, 89, 364, 70, 29, 140, 4, 64, 4780, 11, 4, 2678, 26, 178, 4, 529, 443, 2, 5, 27, 710, 117, 2, 8123, 165, 47, 84, 37, 131, 818, 14, 595, 10, 10, 61, 1242, 1209, 10, 10, 288, 2260, 1702, 34, 2901, 2, 4, 65, 496, 4, 231, 7, 790, 5, 6, 320, 234, 2766, 234, 1119, 1574, 7, 496, 4, 139, 929, 2901, 2, 7750, 5, 4241, 18, 4, 8497, 2, 250, 11, 1818, 7561, 4, 4217, 5408, 747, 1115, 372, 1890, 1006, 541, 9303, 7, 4, 59, 2, 4, 3586, 2]),\n",
       "       list([1, 1446, 7079, 69, 72, 3305, 13, 610, 930, 8, 12, 582, 23, 5, 16, 484, 685, 54, 349, 11, 4120, 2959, 45, 58, 1466, 13, 197, 12, 16, 43, 23, 2, 5, 62, 30, 145, 402, 11, 4131, 51, 575, 32, 61, 369, 71, 66, 770, 12, 1054, 75, 100, 2198, 8, 4, 105, 37, 69, 147, 712, 75, 3543, 44, 257, 390, 5, 69, 263, 514, 105, 50, 286, 1814, 23, 4, 123, 13, 161, 40, 5, 421, 4, 116, 16, 897, 13, 2, 40, 319, 5872, 112, 6700, 11, 4803, 121, 25, 70, 3468, 4, 719, 3798, 13, 18, 31, 62, 40, 8, 7200, 4, 2, 7, 14, 123, 5, 942, 25, 8, 721, 12, 145, 5, 202, 12, 160, 580, 202, 12, 6, 52, 58, 2, 92, 401, 728, 12, 39, 14, 251, 8, 15, 251, 5, 2, 12, 38, 84, 80, 124, 12, 9, 23]),\n",
       "       list([1, 17, 6, 194, 337, 7, 4, 204, 22, 45, 254, 8, 106, 14, 123, 4, 2, 270, 2, 5, 2, 2, 732, 2098, 101, 405, 39, 14, 1034, 4, 1310, 9, 115, 50, 305, 12, 47, 4, 168, 5, 235, 7, 38, 111, 699, 102, 7, 4, 4039, 9245, 9, 24, 6, 78, 1099, 17, 2345, 2, 21, 27, 9685, 6139, 5, 2, 1603, 92, 1183, 4, 1310, 7, 4, 204, 42, 97, 90, 35, 221, 109, 29, 127, 27, 118, 8, 97, 12, 157, 21, 6789, 2, 9, 6, 66, 78, 1099, 4, 631, 1191, 5, 2642, 272, 191, 1070, 6, 7585, 8, 2197, 2, 2, 544, 5, 383, 1271, 848, 1468, 2, 497, 2, 8, 1597, 8778, 2, 21, 60, 27, 239, 9, 43, 8368, 209, 405, 10, 10, 12, 764, 40, 4, 248, 20, 12, 16, 5, 174, 1791, 72, 7, 51, 6, 1739, 22, 4, 204, 131, 9])],\n",
       "      dtype=object)"
      ]
     },
     "execution_count": 2,
     "metadata": {
      "tags": []
     },
     "output_type": "execute_result"
    }
   ],
   "source": [
    "print('Length of train_data: ',len(train_data))\n",
    "train_data"
   ]
  },
  {
   "cell_type": "markdown",
   "metadata": {
    "id": "P5hO_Qdh-YUb"
   },
   "source": [
    "\n",
    "\n",
    "> train_labels and test_labels are 1D arrays with the length of 25,000 where each review has been manually labelled as positive=1 or negative=0.\n",
    "\n"
   ]
  },
  {
   "cell_type": "code",
   "execution_count": 3,
   "metadata": {
    "colab": {
     "base_uri": "https://localhost:8080/"
    },
    "id": "47medC8m-hbw",
    "outputId": "e49e2a07-6cdb-4e27-ad59-7babf3d56591"
   },
   "outputs": [
    {
     "name": "stdout",
     "output_type": "stream",
     "text": [
      "Length of train_data:  25000\n"
     ]
    },
    {
     "data": {
      "text/plain": [
       "array([1, 0, 0, ..., 0, 1, 0])"
      ]
     },
     "execution_count": 3,
     "metadata": {
      "tags": []
     },
     "output_type": "execute_result"
    }
   ],
   "source": [
    "print('Length of train_data: ',len(train_labels))\n",
    "train_labels"
   ]
  },
  {
   "cell_type": "markdown",
   "metadata": {
    "id": "Xphr2333jA0P"
   },
   "source": [
    "\n",
    "> A way to decode back a review to English words.\n",
    "\n"
   ]
  },
  {
   "cell_type": "code",
   "execution_count": 4,
   "metadata": {
    "id": "NU_91-e0jA0P"
   },
   "outputs": [],
   "source": [
    "word_index = imdb.get_word_index()\n",
    "reverse_word_index = dict(\n",
    "    [(value, key) for (key, value) in word_index.items()])\n",
    "decoded_review = ' '.join(\n",
    "    [reverse_word_index.get(i - 3, '?') for i in train_data[0]])"
   ]
  },
  {
   "cell_type": "code",
   "execution_count": 5,
   "metadata": {
    "colab": {
     "base_uri": "https://localhost:8080/",
     "height": 137
    },
    "id": "_FYebQTLjA0S",
    "outputId": "45d68747-58df-4a7f-a669-68666ca1b969"
   },
   "outputs": [
    {
     "data": {
      "application/vnd.google.colaboratory.intrinsic+json": {
       "type": "string"
      },
      "text/plain": [
       "\"? this film was just brilliant casting location scenery story direction everyone's really suited the part they played and you could just imagine being there robert ? is an amazing actor and now the same being director ? father came from the same scottish island as myself so i loved the fact there was a real connection with this film the witty remarks throughout the film were great it was just brilliant so much that i bought the film as soon as it was released for ? and would recommend it to everyone to watch and the fly fishing was amazing really cried at the end it was so sad and you know what they say if you cry at a film it must have been good and this definitely was also ? to the two little boy's that played the ? of norman and paul they were just brilliant children are often left out of the ? list i think because the stars that play them all grown up are such a big profile for the whole film but these children are amazing and should be praised for what they have done don't you think the whole story was so lovely because it was true and was someone's life after all that was shared with us all\""
      ]
     },
     "execution_count": 5,
     "metadata": {
      "tags": []
     },
     "output_type": "execute_result"
    }
   ],
   "source": [
    "decoded_review"
   ]
  },
  {
   "cell_type": "markdown",
   "metadata": {
    "id": "Lr2qqUNzjA0V"
   },
   "source": [
    "> Importing libraries.\n",
    "\n"
   ]
  },
  {
   "cell_type": "code",
   "execution_count": 6,
   "metadata": {
    "id": "xgeaGUZHjA0W"
   },
   "outputs": [],
   "source": [
    "import numpy as np\n",
    "import matplotlib.pyplot as plt\n",
    "from tensorflow.keras import models\n",
    "from tensorflow.keras import layers"
   ]
  },
  {
   "cell_type": "markdown",
   "metadata": {
    "id": "kZnK-LMBjA0Y"
   },
   "source": [
    "## 2. Preparing data\n",
    "\n",
    "\n",
    "---\n",
    "\n",
    "Before I feed my dataset into the neural network I need to turn my lists into tensors. For this I will use one-hot encode to turn the lists into vectors between 0s and 1s. Then I can use as the first layer in my network a Dense layer, capable of handling\n",
    "floating-point vector data.\n",
    "\n",
    "\n",
    "With the following code:\n",
    "*   I create an all-zero matrix of shape (len(sequences), dimension). \n",
    "*   I set specific indices of results[i] to 1s.\n",
    "*   Set x_train to vectorized training data.\n",
    "*   Set x_test to vectorized test data.\n"
   ]
  },
  {
   "cell_type": "code",
   "execution_count": 7,
   "metadata": {
    "id": "SMS0V2bhjA0Y"
   },
   "outputs": [],
   "source": [
    "def vectorize_sequences(sequences, dimension=10000):\n",
    "    results = np.zeros((len(sequences), dimension))\n",
    "    for i, sequence in enumerate(sequences):\n",
    "        results[i, sequence] = 1.\n",
    "    return results\n",
    "\n",
    "x_train = vectorize_sequences(train_data)\n",
    "x_test = vectorize_sequences(test_data)"
   ]
  },
  {
   "cell_type": "markdown",
   "metadata": {
    "id": "OmmUJ7BfjA0b"
   },
   "source": [
    "\n",
    "> Vectorize training and test labels.\n",
    "\n",
    "\n",
    "\n"
   ]
  },
  {
   "cell_type": "code",
   "execution_count": 8,
   "metadata": {
    "id": "2Ul9YOG3jA0c"
   },
   "outputs": [],
   "source": [
    "y_train = np.asarray(train_labels).astype('float32')\n",
    "y_test = np.asarray(test_labels).astype('float32')"
   ]
  },
  {
   "cell_type": "markdown",
   "metadata": {
    "id": "18OSPTDLjA0f"
   },
   "source": [
    "## 3. Building the model.\n",
    "\n",
    "\n",
    "---\n",
    "\n",
    "\n"
   ]
  },
  {
   "cell_type": "markdown",
   "metadata": {
    "id": "Nj86lC5JdtWx"
   },
   "source": [
    "The input data is vectors and the labels are scalars. 0 if the review is laballed as negative and 1 if the review labelled as positive. I have choosen a network which performs well on such a problem a simple stack of fully connected Dense Layers, where the hidden layers will use relu as their activation function. Relu is an activiation function which turn a value into 0 if the number is less than 0 and leave the positive number as it was e.g relu(-3,2) = (0,2). Relu is the most common activation function in Deep Learning and we need it to extend the hypothesis space.\n",
    "\n",
    "Initially we will start by having 2 hidden layers with 16 hidden units, which means the weight matrix W will have the shape of (input_dimension, 16) = (10000, 16) in the input layer. The output layer (third layer) will use sigmoid activation to output the probability a number between 0 and 1 depending on the prediction of the current review implicating how likely is that review is classified as positive (1 if its very likely)."
   ]
  },
  {
   "cell_type": "code",
   "execution_count": 7,
   "metadata": {},
   "outputs": [
    {
     "name": "stdout",
     "output_type": "stream",
     "text": [
      "/bin/sh: -c: line 0: syntax error near unexpected token `\"relu-function.png\"'\r\n",
      "/bin/sh: -c: line 0: `[title](\"relu-function.png\")'\r\n"
     ]
    }
   ],
   "source": [
    "![title](\"relu-function.png\")"
   ]
  },
  {
   "cell_type": "code",
   "execution_count": 9,
   "metadata": {
    "id": "HoYIxoIXjA0f"
   },
   "outputs": [],
   "source": [
    "model = models.Sequential()\n",
    "model.add(layers.Dense(16, activation='relu', input_shape=(10000,)))\n",
    "model.add(layers.Dense(16, activation='relu'))\n",
    "model.add(layers.Dense(1, activation='sigmoid'))"
   ]
  },
  {
   "cell_type": "markdown",
   "metadata": {
    "id": "IPGcZxwamCUN"
   },
   "source": [
    "We have 160,305 parameters in total. \n",
    "\n",
    "1.   In our first layer we have 10,000 x 16 + 16 = 160,016\n",
    "2.   In the second layer 16x16 + 16 = 272.\n",
    "3.   In the last layer we have 16x1 + 1 = 17\n",
    "\n",
    "\n",
    "\n",
    "\n",
    "\n"
   ]
  },
  {
   "cell_type": "code",
   "execution_count": 10,
   "metadata": {
    "colab": {
     "base_uri": "https://localhost:8080/"
    },
    "id": "E6C7_eqil3Hk",
    "outputId": "3bdcc2b6-0972-41c8-c74f-1a5d2047c175"
   },
   "outputs": [
    {
     "name": "stdout",
     "output_type": "stream",
     "text": [
      "Model: \"sequential\"\n",
      "_________________________________________________________________\n",
      "Layer (type)                 Output Shape              Param #   \n",
      "=================================================================\n",
      "dense (Dense)                (None, 16)                160016    \n",
      "_________________________________________________________________\n",
      "dense_1 (Dense)              (None, 16)                272       \n",
      "_________________________________________________________________\n",
      "dense_2 (Dense)              (None, 1)                 17        \n",
      "=================================================================\n",
      "Total params: 160,305\n",
      "Trainable params: 160,305\n",
      "Non-trainable params: 0\n",
      "_________________________________________________________________\n"
     ]
    }
   ],
   "source": [
    "model.summary()"
   ]
  },
  {
   "cell_type": "markdown",
   "metadata": {
    "id": "lWZuZydtjA0i"
   },
   "source": [
    "\n",
    "\n",
    "> To compile the model we need to choose a loss function and an optimizer. In this case our loss function will be a binary_crossentropy as this seems to be the best choice for binary classifications. We will use rmsprop as our optimizer. We need to set metrics to measure the accuracy of the model.\n",
    "\n"
   ]
  },
  {
   "cell_type": "code",
   "execution_count": 11,
   "metadata": {
    "id": "vzChIHTpjA0i"
   },
   "outputs": [],
   "source": [
    "model.compile(optimizer='rmsprop',\n",
    "    loss='binary_crossentropy',\n",
    "    metrics=['accuracy'])"
   ]
  },
  {
   "cell_type": "markdown",
   "metadata": {
    "id": "bfjZ7kpGqzEl"
   },
   "source": [
    "\n",
    "\n",
    "> Configuring optimizer.\n",
    "\n"
   ]
  },
  {
   "cell_type": "code",
   "execution_count": 12,
   "metadata": {
    "id": "m-K5yJDEjA0k"
   },
   "outputs": [],
   "source": [
    "from tensorflow.keras import optimizers\n",
    "model.compile(optimizer=optimizers.RMSprop(lr=0.001),\n",
    "    loss='binary_crossentropy',\n",
    "    metrics=['accuracy'])"
   ]
  },
  {
   "cell_type": "markdown",
   "metadata": {
    "id": "sF8UGRoQjA0m"
   },
   "source": [
    "\n",
    "\n",
    "> Using custom losses and metrics\n",
    "\n"
   ]
  },
  {
   "cell_type": "code",
   "execution_count": 13,
   "metadata": {
    "id": "jnh3VqKijA0n"
   },
   "outputs": [],
   "source": [
    "from tensorflow.keras import losses\n",
    "from tensorflow.keras import metrics\n",
    "model.compile(optimizer=optimizers.RMSprop(lr=0.001),\n",
    "    loss=losses.binary_crossentropy,\n",
    "    metrics=[metrics.binary_accuracy])"
   ]
  },
  {
   "cell_type": "markdown",
   "metadata": {
    "id": "s69qJxm_jA0p"
   },
   "source": [
    "\n",
    "\n",
    "> To monitor the training I set aside 10000 examples for validation.\n",
    "\n",
    "---\n",
    "\n",
    "\n",
    "\n"
   ]
  },
  {
   "cell_type": "code",
   "execution_count": 14,
   "metadata": {
    "id": "1o_kpnD5jA0p"
   },
   "outputs": [],
   "source": [
    "x_val = x_train[:10000]\n",
    "partial_x_train = x_train[10000:]\n",
    "y_val = y_train[:10000]\n",
    "partial_y_train = y_train[10000:]"
   ]
  },
  {
   "cell_type": "markdown",
   "metadata": {
    "id": "u2WJPNiNjA0r"
   },
   "source": [
    "## 4. Training the model."
   ]
  },
  {
   "cell_type": "markdown",
   "metadata": {
    "id": "ygNbKL__D-7U"
   },
   "source": [
    "Firstly I train the model only for 1 epoch."
   ]
  },
  {
   "cell_type": "code",
   "execution_count": 15,
   "metadata": {
    "colab": {
     "base_uri": "https://localhost:8080/"
    },
    "id": "lBmFnEmnDcQN",
    "outputId": "623e46c7-4244-4357-8fbc-933173a18e53"
   },
   "outputs": [
    {
     "name": "stdout",
     "output_type": "stream",
     "text": [
      "30/30 [==============================] - 1s 45ms/step - loss: 0.5373 - acc: 0.7765 - val_loss: 0.4270 - val_acc: 0.8471\n",
      "782/782 [==============================] - 1s 1ms/step - loss: 0.4418 - acc: 0.8364\n"
     ]
    }
   ],
   "source": [
    "model.compile(optimizer='rmsprop',\n",
    "loss='binary_crossentropy',\n",
    "metrics=['acc'])\n",
    "model.fit(partial_x_train, partial_y_train, epochs=1, batch_size=512, validation_data=(x_val, y_val))\n",
    "results = model.evaluate(x_test, y_test)"
   ]
  },
  {
   "cell_type": "markdown",
   "metadata": {
    "id": "bZ9gpXroE7XG"
   },
   "source": [
    "\n",
    "\n",
    "> With this network we get an 84% accuracy we can increase this number by having more epochs to avoid underfitting\n",
    "\n"
   ]
  },
  {
   "cell_type": "markdown",
   "metadata": {
    "id": "K-3CwkvrrrRW"
   },
   "source": [
    "Now I train the model for 20 epochs which means the model will go through the all the samples 20 times. In each epoch there will be mini-batches of 512 samples until it goes through all the sample in each epoch. In the same time I will also monitor the accuracy on the validation set by passing the validation_data argument."
   ]
  },
  {
   "cell_type": "code",
   "execution_count": 15,
   "metadata": {
    "colab": {
     "base_uri": "https://localhost:8080/"
    },
    "id": "eCipjVpWjA0s",
    "outputId": "5291b65d-65b9-4235-c51c-e41904ec1b4f"
   },
   "outputs": [
    {
     "name": "stdout",
     "output_type": "stream",
     "text": [
      "Epoch 1/20\n",
      "30/30 [==============================] - 1s 46ms/step - loss: 0.4981 - acc: 0.7967 - val_loss: 0.3760 - val_acc: 0.8719\n",
      "Epoch 2/20\n",
      "30/30 [==============================] - 1s 35ms/step - loss: 0.2990 - acc: 0.9036 - val_loss: 0.3007 - val_acc: 0.8897\n",
      "Epoch 3/20\n",
      "30/30 [==============================] - 1s 35ms/step - loss: 0.2178 - acc: 0.9276 - val_loss: 0.2777 - val_acc: 0.8905\n",
      "Epoch 4/20\n",
      "30/30 [==============================] - 1s 35ms/step - loss: 0.1730 - acc: 0.9427 - val_loss: 0.3043 - val_acc: 0.8773\n",
      "Epoch 5/20\n",
      "30/30 [==============================] - 1s 35ms/step - loss: 0.1396 - acc: 0.9555 - val_loss: 0.2809 - val_acc: 0.8890\n",
      "Epoch 6/20\n",
      "30/30 [==============================] - 1s 35ms/step - loss: 0.1168 - acc: 0.9630 - val_loss: 0.2964 - val_acc: 0.8865\n",
      "Epoch 7/20\n",
      "30/30 [==============================] - 1s 35ms/step - loss: 0.0937 - acc: 0.9723 - val_loss: 0.3187 - val_acc: 0.8795\n",
      "Epoch 8/20\n",
      "30/30 [==============================] - 1s 35ms/step - loss: 0.0789 - acc: 0.9782 - val_loss: 0.3541 - val_acc: 0.8781\n",
      "Epoch 9/20\n",
      "30/30 [==============================] - 1s 35ms/step - loss: 0.0646 - acc: 0.9834 - val_loss: 0.3719 - val_acc: 0.8785\n",
      "Epoch 10/20\n",
      "30/30 [==============================] - 1s 35ms/step - loss: 0.0531 - acc: 0.9868 - val_loss: 0.3830 - val_acc: 0.8767\n",
      "Epoch 11/20\n",
      "30/30 [==============================] - 1s 35ms/step - loss: 0.0442 - acc: 0.9893 - val_loss: 0.4118 - val_acc: 0.8757\n",
      "Epoch 12/20\n",
      "30/30 [==============================] - 1s 35ms/step - loss: 0.0333 - acc: 0.9927 - val_loss: 0.4677 - val_acc: 0.8737\n",
      "Epoch 13/20\n",
      "30/30 [==============================] - 1s 35ms/step - loss: 0.0281 - acc: 0.9947 - val_loss: 0.4745 - val_acc: 0.8751\n",
      "Epoch 14/20\n",
      "30/30 [==============================] - 1s 35ms/step - loss: 0.0206 - acc: 0.9968 - val_loss: 0.5189 - val_acc: 0.8684\n",
      "Epoch 15/20\n",
      "30/30 [==============================] - 1s 34ms/step - loss: 0.0183 - acc: 0.9968 - val_loss: 0.5398 - val_acc: 0.8710\n",
      "Epoch 16/20\n",
      "30/30 [==============================] - 1s 35ms/step - loss: 0.0134 - acc: 0.9979 - val_loss: 0.5758 - val_acc: 0.8698\n",
      "Epoch 17/20\n",
      "30/30 [==============================] - 1s 35ms/step - loss: 0.0123 - acc: 0.9981 - val_loss: 0.6116 - val_acc: 0.8685\n",
      "Epoch 18/20\n",
      "30/30 [==============================] - 1s 35ms/step - loss: 0.0101 - acc: 0.9980 - val_loss: 0.6386 - val_acc: 0.8669\n",
      "Epoch 19/20\n",
      "30/30 [==============================] - 1s 35ms/step - loss: 0.0047 - acc: 0.9999 - val_loss: 0.6727 - val_acc: 0.8657\n",
      "Epoch 20/20\n",
      "30/30 [==============================] - 1s 35ms/step - loss: 0.0090 - acc: 0.9977 - val_loss: 0.7025 - val_acc: 0.8647\n",
      "782/782 [==============================] - 1s 2ms/step - loss: 0.7652 - acc: 0.8502\n"
     ]
    }
   ],
   "source": [
    "model.compile(optimizer='rmsprop',\n",
    "loss='binary_crossentropy',\n",
    "metrics=['acc'])\n",
    "original = model.fit(partial_x_train, partial_y_train, epochs=20, batch_size=512, validation_data=(x_val, y_val))\n",
    "results = model.evaluate(x_test, y_test)"
   ]
  },
  {
   "cell_type": "markdown",
   "metadata": {
    "id": "xkPfXokUFbsg"
   },
   "source": [
    "\n",
    "\n",
    "> With this network I get an 85% accuracy now I will visualize the result to see where our network starts to overfit.\n",
    "\n"
   ]
  },
  {
   "cell_type": "markdown",
   "metadata": {
    "id": "4HtL6nSEjA0w"
   },
   "source": [
    "## Plotting the training and validation loss"
   ]
  },
  {
   "cell_type": "code",
   "execution_count": 16,
   "metadata": {
    "colab": {
     "base_uri": "https://localhost:8080/"
    },
    "id": "qCj2nUKrjA0x",
    "outputId": "ec22e849-27f7-4114-c08c-f1178f413226"
   },
   "outputs": [
    {
     "data": {
      "text/plain": [
       "dict_keys(['loss', 'acc', 'val_loss', 'val_acc'])"
      ]
     },
     "execution_count": 16,
     "metadata": {
      "tags": []
     },
     "output_type": "execute_result"
    }
   ],
   "source": [
    "original_dict = original.history\n",
    "original_dict.keys()"
   ]
  },
  {
   "cell_type": "code",
   "execution_count": 17,
   "metadata": {
    "id": "goQPyNoSjA0y"
   },
   "outputs": [],
   "source": [
    "import matplotlib.pyplot as plt\n",
    "    \n",
    "def plot_loss():\n",
    "\n",
    "    original_dict = original.history\n",
    "    loss = original_dict['loss']\n",
    "    val_loss = original_dict['val_loss']\n",
    "\n",
    "    epochs = range(1, len(loss) + 1)\n",
    "\n",
    "    blue_dots = 'bo'\n",
    "    solid_blue_line = 'b'\n",
    "\n",
    "    plt.plot(epochs, loss, blue_dots, label = 'Training loss')\n",
    "    plt.plot(epochs, val_loss, solid_blue_line, label = 'Validation loss')\n",
    "    plt.title('Training and validation loss')\n",
    "    plt.xlabel('Epochs')\n",
    "    plt.ylabel('Loss')\n",
    "    plt.legend()\n",
    "    #plt.savefig('overfitting.eps', format = 'eps')\n",
    "    plt.show()"
   ]
  },
  {
   "cell_type": "code",
   "execution_count": 18,
   "metadata": {
    "colab": {
     "base_uri": "https://localhost:8080/",
     "height": 295
    },
    "id": "lalYDXnAjA01",
    "outputId": "c1a8cabe-975d-4eea-f904-1153a475cced"
   },
   "outputs": [
    {
     "data": {
      "image/png": "[encoded data removed]",
      "text/plain": [
       "<Figure size 432x288 with 1 Axes>"
      ]
     },
     "metadata": {
      "needs_background": "light",
      "tags": []
     },
     "output_type": "display_data"
    }
   ],
   "source": [
    "plot_loss()"
   ]
  },
  {
   "cell_type": "code",
   "execution_count": 19,
   "metadata": {
    "id": "hDYfu-gNbCOT"
   },
   "outputs": [],
   "source": [
    "def plot_acc():\n",
    "    \n",
    "    plt.clf()\n",
    "    acc = original_dict['acc']\n",
    "    val_acc = original_dict['val_acc']\n",
    "    \n",
    "    epochs = range(1, len(acc) + 1)\n",
    "    \n",
    "    plt.plot(epochs, acc, 'bo', label = 'Training acc')\n",
    "    plt.plot(epochs, val_acc, 'b', label = 'Validation acc')\n",
    "    plt.title('Training and validation acc')\n",
    "    plt.xlabel('Epochs')\n",
    "    plt.ylabel('Accuracy')\n",
    "    plt.legend()\n",
    "\n",
    "    plt.show()"
   ]
  },
  {
   "cell_type": "code",
   "execution_count": 20,
   "metadata": {
    "colab": {
     "base_uri": "https://localhost:8080/",
     "height": 295
    },
    "id": "KpPJA9OCbLDb",
    "outputId": "8b13f3fe-9e2a-4d8e-ca91-3874d94795e5"
   },
   "outputs": [
    {
     "data": {
      "image/png": "[encoded data removed]",
      "text/plain": [
       "<Figure size 432x288 with 1 Axes>"
      ]
     },
     "metadata": {
      "needs_background": "light",
      "tags": []
     },
     "output_type": "display_data"
    }
   ],
   "source": [
    "plot_acc()"
   ]
  },
  {
   "cell_type": "markdown",
   "metadata": {
    "id": "HNfJYF_wvINS"
   },
   "source": [
    "\n",
    "> We can see that on the training dataset the network continously improves after each epoch the loss is getting smaller and the accuracy getting higher, but this is not the case with our validation set. This is an example of overfitting where we can see that my model overfits after the third epochs. This is because the model does not generalise and does not perform well on data which never seen before.\n",
    "\n"
   ]
  },
  {
   "cell_type": "markdown",
   "metadata": {
    "id": "V5L-KUe1w94x"
   },
   "source": [
    "Firstly I will reduce the epochs to 4 by making a completely new network to stop overfiting then I try other techniques to reduce overfitting."
   ]
  },
  {
   "cell_type": "code",
   "execution_count": null,
   "metadata": {
    "colab": {
     "base_uri": "https://localhost:8080/"
    },
    "id": "4_g5Twd4bMyU",
    "outputId": "9336442d-201e-4873-b0a0-957754ddb537"
   },
   "outputs": [
    {
     "name": "stdout",
     "output_type": "stream",
     "text": [
      "Epoch 1/4\n",
      "49/49 [==============================] - 2s 36ms/step - loss: 0.4485 - accuracy: 0.8276 - val_loss: 0.2879 - val_accuracy: 0.9131\n",
      "Epoch 2/4\n",
      "49/49 [==============================] - 2s 32ms/step - loss: 0.2609 - accuracy: 0.9109 - val_loss: 0.1982 - val_accuracy: 0.9372\n",
      "Epoch 3/4\n",
      "49/49 [==============================] - 2s 32ms/step - loss: 0.2022 - accuracy: 0.9280 - val_loss: 0.1580 - val_accuracy: 0.9524\n",
      "Epoch 4/4\n",
      "49/49 [==============================] - 2s 32ms/step - loss: 0.1702 - accuracy: 0.9390 - val_loss: 0.1352 - val_accuracy: 0.9586\n",
      "782/782 [==============================] - 1s 2ms/step - loss: 0.2947 - accuracy: 0.8828\n"
     ]
    }
   ],
   "source": [
    "model = models.Sequential()\n",
    "model.add(layers.Dense(16, activation='relu', input_shape=(10000,)))\n",
    "model.add(layers.Dense(16, activation='relu'))\n",
    "model.add(layers.Dense(1, activation='sigmoid'))\n",
    "model.compile(optimizer='rmsprop',\n",
    "loss='binary_crossentropy',\n",
    "metrics=['accuracy'])\n",
    "history = model.fit(x_train, y_train, epochs=4, batch_size=512, validation_data=(x_val, y_val))\n",
    "results = model.evaluate(x_test, y_test)"
   ]
  },
  {
   "cell_type": "markdown",
   "metadata": {
    "id": "n8tZFzR1Bwqa"
   },
   "source": [
    "\n",
    "\n",
    "> With this approach we get 88% accuracy.\n",
    "\n"
   ]
  },
  {
   "cell_type": "markdown",
   "metadata": {
    "id": "eXVBQNG4LBBU"
   },
   "source": [
    "Now I will try to experiment with different approaches to see if we used the right number of layers or if we can find a better loss or activation function for this network."
   ]
  },
  {
   "cell_type": "markdown",
   "metadata": {
    "id": "v27LroPWLY2G"
   },
   "source": [
    "### 1. Using more hidden layers only"
   ]
  },
  {
   "cell_type": "code",
   "execution_count": null,
   "metadata": {
    "colab": {
     "base_uri": "https://localhost:8080/"
    },
    "id": "vk9M1zWtKMJw",
    "outputId": "a6279e95-5739-442d-8029-2532117d9b63"
   },
   "outputs": [
    {
     "name": "stdout",
     "output_type": "stream",
     "text": [
      "Epoch 1/4\n",
      "49/49 [==============================] - 2s 37ms/step - loss: 0.4684 - accuracy: 0.8139 - val_loss: 0.2862 - val_accuracy: 0.9170\n",
      "Epoch 2/4\n",
      "49/49 [==============================] - 2s 32ms/step - loss: 0.2587 - accuracy: 0.9101 - val_loss: 0.2209 - val_accuracy: 0.9202\n",
      "Epoch 3/4\n",
      "49/49 [==============================] - 2s 32ms/step - loss: 0.2026 - accuracy: 0.9266 - val_loss: 0.1674 - val_accuracy: 0.9427\n",
      "Epoch 4/4\n",
      "49/49 [==============================] - 2s 31ms/step - loss: 0.1675 - accuracy: 0.9412 - val_loss: 0.1290 - val_accuracy: 0.9607\n",
      "782/782 [==============================] - 1s 2ms/step - loss: 0.3051 - accuracy: 0.8798\n"
     ]
    }
   ],
   "source": [
    "model = models.Sequential()\n",
    "model.add(layers.Dense(16, activation='relu', input_shape=(10000,)))\n",
    "model.add(layers.Dense(16, activation='relu'))\n",
    "model.add(layers.Dense(16, activation='relu'))\n",
    "model.add(layers.Dense(1, activation='sigmoid'))\n",
    "model.compile(optimizer='rmsprop',\n",
    "loss='binary_crossentropy',\n",
    "metrics=['accuracy'])\n",
    "history = model.fit(x_train, y_train, epochs=4, batch_size=512, validation_data=(x_val, y_val))\n",
    "results = model.evaluate(x_test, y_test)"
   ]
  },
  {
   "cell_type": "markdown",
   "metadata": {
    "id": "Omx4pXVoLz4K"
   },
   "source": [
    "\n",
    "\n",
    "> We can see that increasing the network by having 3 hidden layers have resulted 88,7% accuracy, which is just slightly less than with 2 hidden layers therefore we can assume having extra layers won’t help our.\n",
    "\n"
   ]
  },
  {
   "cell_type": "markdown",
   "metadata": {
    "id": "no-b4-SWNUbx"
   },
   "source": [
    "### 2. Using only one hidden layer."
   ]
  },
  {
   "cell_type": "code",
   "execution_count": null,
   "metadata": {
    "colab": {
     "base_uri": "https://localhost:8080/"
    },
    "id": "JPj5JfxDNRXS",
    "outputId": "7e090c49-a287-4eb1-a235-45ea81c3eb0b"
   },
   "outputs": [
    {
     "name": "stdout",
     "output_type": "stream",
     "text": [
      "Epoch 1/4\n",
      "49/49 [==============================] - 2s 36ms/step - loss: 0.4426 - accuracy: 0.8342 - val_loss: 0.3058 - val_accuracy: 0.9032\n",
      "Epoch 2/4\n",
      "49/49 [==============================] - 2s 31ms/step - loss: 0.2764 - accuracy: 0.9069 - val_loss: 0.2244 - val_accuracy: 0.9318\n",
      "Epoch 3/4\n",
      "49/49 [==============================] - 2s 32ms/step - loss: 0.2173 - accuracy: 0.9264 - val_loss: 0.1923 - val_accuracy: 0.9354\n",
      "Epoch 4/4\n",
      "49/49 [==============================] - 2s 32ms/step - loss: 0.1854 - accuracy: 0.9358 - val_loss: 0.1560 - val_accuracy: 0.9522\n",
      "782/782 [==============================] - 1s 2ms/step - loss: 0.2801 - accuracy: 0.8887\n"
     ]
    }
   ],
   "source": [
    "model = models.Sequential()\n",
    "model.add(layers.Dense(16, activation='relu', input_shape=(10000,)))\n",
    "model.add(layers.Dense(1, activation='sigmoid'))\n",
    "model.compile(optimizer='rmsprop',\n",
    "loss='binary_crossentropy',\n",
    "metrics=['accuracy'])\n",
    "history = model.fit(x_train, y_train, epochs=4, batch_size=512, validation_data=(x_val, y_val))\n",
    "results = model.evaluate(x_test, y_test)"
   ]
  },
  {
   "cell_type": "markdown",
   "metadata": {
    "id": "4OsJhoJQMC2B"
   },
   "source": [
    "\n",
    "\n",
    "> By having only 1 hidden layer have resulted 89% slightly better than our original 2 hidden layers network, but our validation accuracy has not improved.\n",
    "\n"
   ]
  },
  {
   "cell_type": "markdown",
   "metadata": {
    "id": "DAcUXl8ePN5K"
   },
   "source": [
    "### 3. Increasing hidden layer units."
   ]
  },
  {
   "cell_type": "code",
   "execution_count": null,
   "metadata": {
    "colab": {
     "base_uri": "https://localhost:8080/"
    },
    "id": "d8LF-XnTOWcA",
    "outputId": "2b633fdf-5d2d-4b79-9deb-e31db12cd428"
   },
   "outputs": [
    {
     "name": "stdout",
     "output_type": "stream",
     "text": [
      "Epoch 1/4\n",
      "49/49 [==============================] - 2s 43ms/step - loss: 0.4349 - accuracy: 0.8137 - val_loss: 0.2546 - val_accuracy: 0.9216\n",
      "Epoch 2/4\n",
      "49/49 [==============================] - 2s 37ms/step - loss: 0.2428 - accuracy: 0.9114 - val_loss: 0.2036 - val_accuracy: 0.9258\n",
      "Epoch 3/4\n",
      "49/49 [==============================] - 2s 38ms/step - loss: 0.1906 - accuracy: 0.9300 - val_loss: 0.1408 - val_accuracy: 0.9556\n",
      "Epoch 4/4\n",
      "49/49 [==============================] - 2s 38ms/step - loss: 0.1642 - accuracy: 0.9384 - val_loss: 0.1586 - val_accuracy: 0.9396\n",
      "782/782 [==============================] - 1s 2ms/step - loss: 0.3550 - accuracy: 0.8637\n"
     ]
    }
   ],
   "source": [
    "model = models.Sequential()\n",
    "model.add(layers.Dense(32, activation='relu', input_shape=(10000,)))\n",
    "model.add(layers.Dense(32, activation='relu'))\n",
    "model.add(layers.Dense(1, activation='sigmoid'))\n",
    "model.compile(optimizer='rmsprop',\n",
    "loss='binary_crossentropy',\n",
    "metrics=['accuracy'])\n",
    "history = model.fit(x_train, y_train, epochs=4, batch_size=512, validation_data=(x_val, y_val))\n",
    "results = model.evaluate(x_test, y_test)"
   ]
  },
  {
   "cell_type": "markdown",
   "metadata": {
    "id": "W_wsVmCLPhOb"
   },
   "source": [
    "\n",
    "\n",
    "> With this approach we get 88% accuracy again and the accuracy on the validation set has improved.\n",
    "\n"
   ]
  },
  {
   "cell_type": "markdown",
   "metadata": {
    "id": "C1tjN-dOQGdw"
   },
   "source": [
    "### 4. Using mse loss function."
   ]
  },
  {
   "cell_type": "code",
   "execution_count": null,
   "metadata": {
    "colab": {
     "base_uri": "https://localhost:8080/"
    },
    "id": "kVwYMI_zPztM",
    "outputId": "1cf76043-6965-456a-d745-68280e9f1dad"
   },
   "outputs": [
    {
     "name": "stdout",
     "output_type": "stream",
     "text": [
      "Epoch 1/4\n",
      "49/49 [==============================] - 2s 40ms/step - loss: 0.1480 - accuracy: 0.8174 - val_loss: 0.0882 - val_accuracy: 0.9033\n",
      "Epoch 2/4\n",
      "49/49 [==============================] - 2s 33ms/step - loss: 0.0781 - accuracy: 0.9092 - val_loss: 0.0593 - val_accuracy: 0.9361\n",
      "Epoch 3/4\n",
      "49/49 [==============================] - 2s 34ms/step - loss: 0.0589 - accuracy: 0.9308 - val_loss: 0.0463 - val_accuracy: 0.9501\n",
      "Epoch 4/4\n",
      "49/49 [==============================] - 2s 33ms/step - loss: 0.0480 - accuracy: 0.9438 - val_loss: 0.0352 - val_accuracy: 0.9649\n",
      "782/782 [==============================] - 1s 2ms/step - loss: 0.0867 - accuracy: 0.8830\n"
     ]
    }
   ],
   "source": [
    "model = models.Sequential()\n",
    "model.add(layers.Dense(16, activation='relu', input_shape=(10000,)))\n",
    "model.add(layers.Dense(16, activation='relu'))\n",
    "model.add(layers.Dense(1, activation='sigmoid'))\n",
    "model.compile(optimizer='rmsprop',\n",
    "loss='mse',\n",
    "metrics=['accuracy'])\n",
    "history = model.fit(x_train, y_train, epochs=4, batch_size=512, validation_data=(x_val, y_val))\n",
    "results = model.evaluate(x_test, y_test)"
   ]
  },
  {
   "cell_type": "markdown",
   "metadata": {
    "id": "L7QjMJ5IQ_w0"
   },
   "source": [
    "\n",
    "\n",
    "> We can see that with mse loss function we different loss values and the accuracy is slightly higher 88.5%.\n",
    "\n"
   ]
  },
  {
   "cell_type": "markdown",
   "metadata": {
    "id": "DGvhtwZQRfQ0"
   },
   "source": [
    "### 4. Using tanh as activation function instead of relu."
   ]
  },
  {
   "cell_type": "code",
   "execution_count": null,
   "metadata": {
    "id": "Ek2Lxb7ORnVF"
   },
   "outputs": [],
   "source": [
    "model = models.Sequential()\n",
    "model.add(layers.Dense(16, activation='tanh', input_shape=(10000,)))\n",
    "model.add(layers.Dense(16, activation='tanh'))\n",
    "model.add(layers.Dense(1, activation='sigmoid'))\n",
    "model.compile(optimizer='rmsprop',\n",
    "loss='binary_crossentropy',\n",
    "metrics=['accuracy'])\n",
    "history = model.fit(x_train, y_train, epochs=4, batch_size=512, validation_data=(x_val, y_val))\n",
    "results = model.evaluate(x_test, y_test)"
   ]
  },
  {
   "cell_type": "markdown",
   "metadata": {
    "id": "Q2gVxbtqSXHX"
   },
   "source": [
    "\n",
    "\n",
    "> We can see that with tanh activation on the validation set the accuracy has significantly improved but the we only got 87.6% accuracy\n",
    "\n"
   ]
  },
  {
   "cell_type": "markdown",
   "metadata": {
    "id": "2D8qpFH-JZW-"
   },
   "source": [
    "## Now I will try to utilize some of the most widely used regularization techniques to avoid overfitting:\n",
    "\n",
    "*   Reducing Network Size\n",
    "*   Adding weight regularization.\n",
    "*   Adding dropout\n",
    "\n",
    "\n"
   ]
  },
  {
   "cell_type": "markdown",
   "metadata": {
    "id": "HPKQ9nLaUJWr"
   },
   "source": [
    "To do this I will go back to our 20 epochs network to compare how this regularizations help to prevent overfitting."
   ]
  },
  {
   "cell_type": "markdown",
   "metadata": {
    "id": "K67-98psUcTd"
   },
   "source": [
    "### 1. Reducing network size.\n",
    "\n",
    "I have already tried reducing the network by having less hidden layers lets see what happens if I reduce the number of units to 4 in the network."
   ]
  },
  {
   "cell_type": "code",
   "execution_count": 21,
   "metadata": {
    "colab": {
     "base_uri": "https://localhost:8080/"
    },
    "id": "jzX574cqJXfU",
    "outputId": "2d1653b4-ef5b-45ec-8f34-4bae3bd17076"
   },
   "outputs": [
    {
     "name": "stdout",
     "output_type": "stream",
     "text": [
      "Epoch 1/20\n",
      "49/49 [==============================] - 2s 36ms/step - loss: 0.5638 - accuracy: 0.8003 - val_loss: 0.4469 - val_accuracy: 0.8829\n",
      "Epoch 2/20\n",
      "49/49 [==============================] - 1s 28ms/step - loss: 0.3863 - accuracy: 0.8904 - val_loss: 0.3202 - val_accuracy: 0.9073\n",
      "Epoch 3/20\n",
      "49/49 [==============================] - 1s 28ms/step - loss: 0.2921 - accuracy: 0.9083 - val_loss: 0.2512 - val_accuracy: 0.9232\n",
      "Epoch 4/20\n",
      "49/49 [==============================] - 1s 28ms/step - loss: 0.2386 - accuracy: 0.9220 - val_loss: 0.2136 - val_accuracy: 0.9305\n",
      "Epoch 5/20\n",
      "49/49 [==============================] - 1s 29ms/step - loss: 0.2054 - accuracy: 0.9309 - val_loss: 0.1839 - val_accuracy: 0.9400\n",
      "Epoch 6/20\n",
      "49/49 [==============================] - 1s 28ms/step - loss: 0.1816 - accuracy: 0.9375 - val_loss: 0.1609 - val_accuracy: 0.9484\n",
      "Epoch 7/20\n",
      "49/49 [==============================] - 1s 28ms/step - loss: 0.1636 - accuracy: 0.9440 - val_loss: 0.1450 - val_accuracy: 0.9537\n",
      "Epoch 8/20\n",
      "49/49 [==============================] - 2s 34ms/step - loss: 0.1483 - accuracy: 0.9497 - val_loss: 0.1332 - val_accuracy: 0.9590\n",
      "Epoch 9/20\n",
      "49/49 [==============================] - 1s 28ms/step - loss: 0.1366 - accuracy: 0.9541 - val_loss: 0.1206 - val_accuracy: 0.9635\n",
      "Epoch 10/20\n",
      "49/49 [==============================] - 1s 29ms/step - loss: 0.1255 - accuracy: 0.9592 - val_loss: 0.1200 - val_accuracy: 0.9618\n",
      "Epoch 11/20\n",
      "49/49 [==============================] - 1s 29ms/step - loss: 0.1167 - accuracy: 0.9616 - val_loss: 0.1025 - val_accuracy: 0.9695\n",
      "Epoch 12/20\n",
      "49/49 [==============================] - 1s 29ms/step - loss: 0.1080 - accuracy: 0.9655 - val_loss: 0.0958 - val_accuracy: 0.9729\n",
      "Epoch 13/20\n",
      "49/49 [==============================] - 1s 29ms/step - loss: 0.1005 - accuracy: 0.9684 - val_loss: 0.0943 - val_accuracy: 0.9709\n",
      "Epoch 14/20\n",
      "49/49 [==============================] - 1s 28ms/step - loss: 0.0935 - accuracy: 0.9712 - val_loss: 0.0809 - val_accuracy: 0.9781\n",
      "Epoch 15/20\n",
      "49/49 [==============================] - 1s 29ms/step - loss: 0.0873 - accuracy: 0.9731 - val_loss: 0.0753 - val_accuracy: 0.9795\n",
      "Epoch 16/20\n",
      "49/49 [==============================] - 1s 29ms/step - loss: 0.0807 - accuracy: 0.9761 - val_loss: 0.0728 - val_accuracy: 0.9801\n",
      "Epoch 17/20\n",
      "49/49 [==============================] - 1s 28ms/step - loss: 0.0758 - accuracy: 0.9775 - val_loss: 0.0648 - val_accuracy: 0.9832\n",
      "Epoch 18/20\n",
      "49/49 [==============================] - 1s 28ms/step - loss: 0.0699 - accuracy: 0.9794 - val_loss: 0.0600 - val_accuracy: 0.9847\n",
      "Epoch 19/20\n",
      "49/49 [==============================] - 1s 28ms/step - loss: 0.0650 - accuracy: 0.9818 - val_loss: 0.0554 - val_accuracy: 0.9864\n",
      "Epoch 20/20\n",
      "49/49 [==============================] - 1s 28ms/step - loss: 0.0611 - accuracy: 0.9832 - val_loss: 0.0512 - val_accuracy: 0.9871\n",
      "782/782 [==============================] - 1s 2ms/step - loss: 0.4773 - accuracy: 0.8612\n"
     ]
    }
   ],
   "source": [
    "model = models.Sequential()\n",
    "model.add(layers.Dense(4, activation='relu', input_shape=(10000,)))\n",
    "model.add(layers.Dense(4, activation='relu'))\n",
    "model.add(layers.Dense(1, activation='sigmoid'))\n",
    "model.compile(optimizer='rmsprop',\n",
    "loss='binary_crossentropy',\n",
    "metrics=['accuracy'])\n",
    "history = model.fit(x_train, y_train, epochs=20, batch_size=512, validation_data=(x_val, y_val))\n",
    "results = model.evaluate(x_test, y_test)"
   ]
  },
  {
   "cell_type": "code",
   "execution_count": 22,
   "metadata": {
    "colab": {
     "base_uri": "https://localhost:8080/"
    },
    "id": "zO2IJBA9aU-H",
    "outputId": "96f7eaf8-3e3f-4340-ee5a-320422a079d9"
   },
   "outputs": [
    {
     "data": {
      "text/plain": [
       "dict_keys(['loss', 'accuracy', 'val_loss', 'val_accuracy'])"
      ]
     },
     "execution_count": 22,
     "metadata": {
      "tags": []
     },
     "output_type": "execute_result"
    }
   ],
   "source": [
    "history_dict = history.history\n",
    "history_dict.keys()"
   ]
  },
  {
   "cell_type": "code",
   "execution_count": 25,
   "metadata": {
    "colab": {
     "base_uri": "https://localhost:8080/",
     "height": 295
    },
    "id": "Yzsy4cR1a4IY",
    "outputId": "99d8a11d-b8c4-4c86-d2ba-d08ab0978e44"
   },
   "outputs": [
    {
     "data": {
      "image/png": "[encoded data removed]",
      "text/plain": [
       "<Figure size 432x288 with 1 Axes>"
      ]
     },
     "metadata": {
      "needs_background": "light",
      "tags": []
     },
     "output_type": "display_data"
    }
   ],
   "source": [
    "import matplotlib.pyplot as plt\n",
    "    \n",
    "def plot_val_loss():\n",
    "\n",
    "    original_dict = original.history\n",
    "    original_val_loss = original_dict['val_loss']\n",
    "    history_dict = history.history\n",
    "    history_val_loss = history_dict['val_loss']\n",
    "\n",
    "\n",
    "    epochs = range(1, len(original_val_loss) + 1)\n",
    "\n",
    "    blue_dots = 'bo'\n",
    "    solid_blue_line = 'b'\n",
    "\n",
    "    plt.plot(epochs, original_val_loss, blue_dots, label = 'Original Model')\n",
    "    plt.plot(epochs, history_val_loss, '*', label = 'Smaller Model')\n",
    "    plt.title('Validation Loss in the Original and Smaller Model')\n",
    "    plt.xlabel('Epochs')\n",
    "    plt.ylabel('Loss')\n",
    "    plt.legend()\n",
    "    plt.show()\n",
    "plot_val_loss()"
   ]
  },
  {
   "cell_type": "markdown",
   "metadata": {
    "id": "emaLH46xgB1O"
   },
   "source": [
    "\n",
    "\n",
    "> We can see that comparing validation to the original model the new smaller model does not start to overfit.\n",
    "\n"
   ]
  },
  {
   "cell_type": "markdown",
   "metadata": {
    "id": "gLKrTvt6ge95"
   },
   "source": [
    "### 2. Adding weight regularization.\n",
    "\n",
    "By adding a weight regularization we only allow the weight to take small numbers this will mitigate the overfitting and regulize our network and it is done by adding it to the lost function. I will utilize L2 regularization where the cost added is proportional to the square of the value of the\n",
    "weight coefficients."
   ]
  },
  {
   "cell_type": "code",
   "execution_count": 17,
   "metadata": {
    "colab": {
     "base_uri": "https://localhost:8080/"
    },
    "id": "4v7Drjm2geZz",
    "outputId": "908fcb94-8d41-441c-9078-a68e12673567"
   },
   "outputs": [
    {
     "name": "stdout",
     "output_type": "stream",
     "text": [
      "Epoch 1/20\n",
      "49/49 [==============================] - 2s 40ms/step - loss: 0.5047 - accuracy: 0.8224 - val_loss: 0.3469 - val_accuracy: 0.9036\n",
      "Epoch 2/20\n",
      "49/49 [==============================] - 2s 33ms/step - loss: 0.3205 - accuracy: 0.9052 - val_loss: 0.2619 - val_accuracy: 0.9321\n",
      "Epoch 3/20\n",
      "49/49 [==============================] - 2s 33ms/step - loss: 0.2738 - accuracy: 0.9218 - val_loss: 0.2345 - val_accuracy: 0.9412\n",
      "Epoch 4/20\n",
      "49/49 [==============================] - 2s 34ms/step - loss: 0.2511 - accuracy: 0.9286 - val_loss: 0.2191 - val_accuracy: 0.9464\n",
      "Epoch 5/20\n",
      "49/49 [==============================] - 2s 33ms/step - loss: 0.2365 - accuracy: 0.9343 - val_loss: 0.2038 - val_accuracy: 0.9539\n",
      "Epoch 6/20\n",
      "49/49 [==============================] - 2s 33ms/step - loss: 0.2283 - accuracy: 0.9366 - val_loss: 0.2464 - val_accuracy: 0.9207\n",
      "Epoch 7/20\n",
      "49/49 [==============================] - 2s 33ms/step - loss: 0.2220 - accuracy: 0.9391 - val_loss: 0.2059 - val_accuracy: 0.9475\n",
      "Epoch 8/20\n",
      "49/49 [==============================] - 2s 33ms/step - loss: 0.2164 - accuracy: 0.9420 - val_loss: 0.1989 - val_accuracy: 0.9517\n",
      "Epoch 9/20\n",
      "49/49 [==============================] - 2s 34ms/step - loss: 0.2103 - accuracy: 0.9444 - val_loss: 0.1860 - val_accuracy: 0.9584\n",
      "Epoch 10/20\n",
      "49/49 [==============================] - 2s 34ms/step - loss: 0.2064 - accuracy: 0.9474 - val_loss: 0.1754 - val_accuracy: 0.9636\n",
      "Epoch 11/20\n",
      "49/49 [==============================] - 2s 33ms/step - loss: 0.2041 - accuracy: 0.9449 - val_loss: 0.1712 - val_accuracy: 0.9655\n",
      "Epoch 12/20\n",
      "49/49 [==============================] - 2s 33ms/step - loss: 0.2030 - accuracy: 0.9470 - val_loss: 0.1716 - val_accuracy: 0.9641\n",
      "Epoch 13/20\n",
      "49/49 [==============================] - 2s 33ms/step - loss: 0.1979 - accuracy: 0.9489 - val_loss: 0.1701 - val_accuracy: 0.9643\n",
      "Epoch 14/20\n",
      "49/49 [==============================] - 2s 33ms/step - loss: 0.1989 - accuracy: 0.9470 - val_loss: 0.1786 - val_accuracy: 0.9585\n",
      "Epoch 15/20\n",
      "49/49 [==============================] - 2s 33ms/step - loss: 0.1949 - accuracy: 0.9499 - val_loss: 0.1617 - val_accuracy: 0.9677\n",
      "Epoch 16/20\n",
      "49/49 [==============================] - 2s 34ms/step - loss: 0.1927 - accuracy: 0.9490 - val_loss: 0.1722 - val_accuracy: 0.9609\n",
      "Epoch 17/20\n",
      "49/49 [==============================] - 2s 34ms/step - loss: 0.1949 - accuracy: 0.9474 - val_loss: 0.1580 - val_accuracy: 0.9715\n",
      "Epoch 18/20\n",
      "49/49 [==============================] - 2s 34ms/step - loss: 0.1869 - accuracy: 0.9513 - val_loss: 0.1548 - val_accuracy: 0.9712\n",
      "Epoch 19/20\n",
      "49/49 [==============================] - 2s 34ms/step - loss: 0.1881 - accuracy: 0.9498 - val_loss: 0.1583 - val_accuracy: 0.9681\n",
      "Epoch 20/20\n",
      "49/49 [==============================] - 2s 33ms/step - loss: 0.1840 - accuracy: 0.9522 - val_loss: 0.1569 - val_accuracy: 0.9690\n",
      "782/782 [==============================] - 1s 2ms/step - loss: 0.4231 - accuracy: 0.8663\n"
     ]
    }
   ],
   "source": [
    "from keras import regularizers\n",
    "model = models.Sequential()\n",
    "model.add(layers.Dense(16, kernel_regularizer=regularizers.l2(0.001),\n",
    "activation='relu', input_shape=(10000,)))\n",
    "model.add(layers.Dense(16, kernel_regularizer=regularizers.l2(0.001),\n",
    "activation='relu'))\n",
    "model.add(layers.Dense(1, activation='sigmoid'))\n",
    "model.compile(optimizer='rmsprop',\n",
    "loss='binary_crossentropy',\n",
    "metrics=['accuracy'])\n",
    "history = model.fit(x_train, y_train, epochs=20, batch_size=512, validation_data=(x_val, y_val))\n",
    "results = model.evaluate(x_test, y_test)"
   ]
  },
  {
   "cell_type": "code",
   "execution_count": 18,
   "metadata": {
    "colab": {
     "base_uri": "https://localhost:8080/",
     "height": 295
    },
    "id": "z-QNW2fxhyLA",
    "outputId": "71cc7a69-a9fb-4ca7-cfef-cfd2e5d6062b"
   },
   "outputs": [
    {
     "data": {
      "image/png": "[encoded data removed]",
      "text/plain": [
       "<Figure size 432x288 with 1 Axes>"
      ]
     },
     "metadata": {
      "needs_background": "light",
      "tags": []
     },
     "output_type": "display_data"
    }
   ],
   "source": [
    "import matplotlib.pyplot as plt\n",
    "    \n",
    "def plot_val_loss():\n",
    "\n",
    "    original_dict = original.history\n",
    "    original_val_loss = original_dict['val_loss']\n",
    "    history_dict = history.history\n",
    "    history_val_loss = history_dict['val_loss']\n",
    "\n",
    "\n",
    "    epochs = range(1, len(original_val_loss) + 1)\n",
    "\n",
    "    blue_dots = 'bo'\n",
    "    solid_blue_line = 'b'\n",
    "\n",
    "    plt.plot(epochs, original_val_loss, blue_dots, label = 'Original Model')\n",
    "    plt.plot(epochs, history_val_loss, '*', label = 'Smaller Model')\n",
    "    plt.title('Validation Loss in the Original and Weight Regulized')\n",
    "    plt.xlabel('Epochs')\n",
    "    plt.ylabel('Loss')\n",
    "    plt.legend()\n",
    "    plt.show()\n",
    "plot_val_loss()"
   ]
  },
  {
   "cell_type": "markdown",
   "metadata": {
    "id": "csDV7UNSiM7l"
   },
   "source": [
    "\n",
    "\n",
    "> We can see that by adding L2 regulizer the model only starts to overfit after the 5th epochs but later on it still improves opposing the original model.\n",
    "\n"
   ]
  },
  {
   "cell_type": "markdown",
   "metadata": {
    "id": "5u1TzhX_jAql"
   },
   "source": [
    "### 3. Adding dropout.\n",
    "\n",
    "By adding 2 dropout layers to our network. Dropout randomly turns numbers in a vector to 0. This helps to prevent conspiracies there it regulizes our network.\n"
   ]
  },
  {
   "cell_type": "code",
   "execution_count": 30,
   "metadata": {
    "colab": {
     "base_uri": "https://localhost:8080/"
    },
    "id": "KfDLpg5fiF67",
    "outputId": "6b5f69f4-1cd8-4ef8-af0b-9a1066abe968"
   },
   "outputs": [
    {
     "name": "stdout",
     "output_type": "stream",
     "text": [
      "Epoch 1/20\n",
      "49/49 [==============================] - 2s 34ms/step - loss: 0.5997 - accuracy: 0.6693 - val_loss: 0.4326 - val_accuracy: 0.8810\n",
      "Epoch 2/20\n",
      "49/49 [==============================] - 1s 30ms/step - loss: 0.4441 - accuracy: 0.8076 - val_loss: 0.2824 - val_accuracy: 0.9113\n",
      "Epoch 3/20\n",
      "49/49 [==============================] - 1s 30ms/step - loss: 0.3546 - accuracy: 0.8616 - val_loss: 0.2167 - val_accuracy: 0.9275\n",
      "Epoch 4/20\n",
      "49/49 [==============================] - 1s 30ms/step - loss: 0.2976 - accuracy: 0.8902 - val_loss: 0.1800 - val_accuracy: 0.9380\n",
      "Epoch 5/20\n",
      "49/49 [==============================] - 1s 30ms/step - loss: 0.2644 - accuracy: 0.9071 - val_loss: 0.1526 - val_accuracy: 0.9491\n",
      "Epoch 6/20\n",
      "49/49 [==============================] - 1s 30ms/step - loss: 0.2350 - accuracy: 0.9192 - val_loss: 0.1308 - val_accuracy: 0.9573\n",
      "Epoch 7/20\n",
      "49/49 [==============================] - 2s 31ms/step - loss: 0.2105 - accuracy: 0.9307 - val_loss: 0.1173 - val_accuracy: 0.9631\n",
      "Epoch 8/20\n",
      "49/49 [==============================] - 1s 30ms/step - loss: 0.1947 - accuracy: 0.9341 - val_loss: 0.1059 - val_accuracy: 0.9673\n",
      "Epoch 9/20\n",
      "49/49 [==============================] - 1s 29ms/step - loss: 0.1797 - accuracy: 0.9398 - val_loss: 0.0978 - val_accuracy: 0.9717\n",
      "Epoch 10/20\n",
      "49/49 [==============================] - 1s 29ms/step - loss: 0.1681 - accuracy: 0.9434 - val_loss: 0.0869 - val_accuracy: 0.9742\n",
      "Epoch 11/20\n",
      "49/49 [==============================] - 1s 30ms/step - loss: 0.1600 - accuracy: 0.9464 - val_loss: 0.0786 - val_accuracy: 0.9764\n",
      "Epoch 12/20\n",
      "49/49 [==============================] - 1s 30ms/step - loss: 0.1499 - accuracy: 0.9492 - val_loss: 0.0745 - val_accuracy: 0.9796\n",
      "Epoch 13/20\n",
      "49/49 [==============================] - 1s 30ms/step - loss: 0.1444 - accuracy: 0.9500 - val_loss: 0.0680 - val_accuracy: 0.9801\n",
      "Epoch 14/20\n",
      "49/49 [==============================] - 1s 30ms/step - loss: 0.1341 - accuracy: 0.9516 - val_loss: 0.0694 - val_accuracy: 0.9792\n",
      "Epoch 15/20\n",
      "49/49 [==============================] - 1s 30ms/step - loss: 0.1318 - accuracy: 0.9544 - val_loss: 0.0614 - val_accuracy: 0.9833\n",
      "Epoch 16/20\n",
      "49/49 [==============================] - 1s 30ms/step - loss: 0.1257 - accuracy: 0.9559 - val_loss: 0.0583 - val_accuracy: 0.9834\n",
      "Epoch 17/20\n",
      "49/49 [==============================] - 1s 30ms/step - loss: 0.1233 - accuracy: 0.9576 - val_loss: 0.0529 - val_accuracy: 0.9847\n",
      "Epoch 18/20\n",
      "49/49 [==============================] - 1s 30ms/step - loss: 0.1224 - accuracy: 0.9587 - val_loss: 0.0557 - val_accuracy: 0.9855\n",
      "Epoch 19/20\n",
      "49/49 [==============================] - 1s 30ms/step - loss: 0.1177 - accuracy: 0.9588 - val_loss: 0.0501 - val_accuracy: 0.9863\n",
      "Epoch 20/20\n",
      "49/49 [==============================] - 1s 30ms/step - loss: 0.1150 - accuracy: 0.9594 - val_loss: 0.0455 - val_accuracy: 0.9876\n",
      "782/782 [==============================] - 1s 1ms/step - loss: 0.5746 - accuracy: 0.8751\n"
     ]
    }
   ],
   "source": [
    "model = models.Sequential()\n",
    "model.add(layers.Dense(16, activation='relu', input_shape=(10000,)))\n",
    "model.add(layers.Dropout(0.5))\n",
    "model.add(layers.Dense(16, activation='relu'))\n",
    "model.add(layers.Dropout(0.5))\n",
    "model.add(layers.Dense(1, activation='sigmoid'))\n",
    "model.compile(optimizer='rmsprop',\n",
    "loss='binary_crossentropy',\n",
    "metrics=['accuracy'])\n",
    "history = model.fit(x_train, y_train, epochs=20, batch_size=512, validation_data=(x_val, y_val))\n",
    "results = model.evaluate(x_test, y_test)"
   ]
  },
  {
   "cell_type": "code",
   "execution_count": 31,
   "metadata": {
    "colab": {
     "base_uri": "https://localhost:8080/",
     "height": 295
    },
    "id": "mEYX5IC8iyPN",
    "outputId": "5614f9e4-c66c-4e5e-bd1c-3e5b790ef7d1"
   },
   "outputs": [
    {
     "data": {
      "image/png": "[encoded data removed]",
      "text/plain": [
       "<Figure size 432x288 with 1 Axes>"
      ]
     },
     "metadata": {
      "needs_background": "light",
      "tags": []
     },
     "output_type": "display_data"
    }
   ],
   "source": [
    "import matplotlib.pyplot as plt\n",
    "    \n",
    "def plot_val_loss():\n",
    "\n",
    "    original_dict = original.history\n",
    "    original_val_loss = original_dict['val_loss']\n",
    "    history_dict = history.history\n",
    "    history_val_loss = history_dict['val_loss']\n",
    "\n",
    "\n",
    "    epochs = range(1, len(original_val_loss) + 1)\n",
    "\n",
    "    blue_dots = 'bo'\n",
    "    solid_blue_line = 'b'\n",
    "\n",
    "    plt.plot(epochs, original_val_loss, blue_dots, label = 'Original Model')\n",
    "    plt.plot(epochs, history_val_loss, '*', label = 'Smaller Model')\n",
    "    plt.title('Validation Loss in the Original and Smaller Model')\n",
    "    plt.xlabel('Epochs')\n",
    "    plt.ylabel('Loss')\n",
    "    plt.legend()\n",
    "    plt.show()\n",
    "plot_val_loss()"
   ]
  },
  {
   "cell_type": "markdown",
   "metadata": {
    "id": "vZOaM96fkOx1"
   },
   "source": [
    "\n",
    "\n",
    "> We can see that by adding dropout the model stops overfitting. and it achieves an 88% accuracy without reducing the epochs.\n",
    "\n"
   ]
  },
  {
   "cell_type": "code",
   "execution_count": 22,
   "metadata": {
    "colab": {
     "base_uri": "https://localhost:8080/"
    },
    "id": "9U_A1rM-kK9l",
    "outputId": "a563b627-f316-4b05-b518-9aecb519424d"
   },
   "outputs": [
    {
     "name": "stdout",
     "output_type": "stream",
     "text": [
      "Epoch 1/4\n",
      "49/49 [==============================] - 2s 44ms/step - loss: 0.5938 - accuracy: 0.6781 - val_loss: 0.4105 - val_accuracy: 0.8839\n",
      "Epoch 2/4\n",
      "49/49 [==============================] - 2s 35ms/step - loss: 0.4411 - accuracy: 0.8049 - val_loss: 0.2797 - val_accuracy: 0.9125\n",
      "Epoch 3/4\n",
      "49/49 [==============================] - 2s 33ms/step - loss: 0.3555 - accuracy: 0.8574 - val_loss: 0.2161 - val_accuracy: 0.9301\n",
      "Epoch 4/4\n",
      "49/49 [==============================] - 2s 33ms/step - loss: 0.2999 - accuracy: 0.8852 - val_loss: 0.1767 - val_accuracy: 0.9414\n",
      "782/782 [==============================] - 1s 2ms/step - loss: 0.2796 - accuracy: 0.8903\n"
     ]
    }
   ],
   "source": [
    "model = models.Sequential()\n",
    "model.add(layers.Dense(16, activation='relu', input_shape=(10000,)))\n",
    "model.add(layers.Dropout(0.5))\n",
    "model.add(layers.Dense(16, activation='relu'))\n",
    "model.add(layers.Dropout(0.5))\n",
    "model.add(layers.Dense(1, activation='sigmoid'))\n",
    "model.compile(optimizer='rmsprop',\n",
    "loss='binary_crossentropy',\n",
    "metrics=['accuracy'])\n",
    "history = model.fit(x_train, y_train, epochs=4, batch_size=512, validation_data=(x_val, y_val))\n",
    "results = model.evaluate(x_test, y_test)"
   ]
  },
  {
   "cell_type": "markdown",
   "metadata": {
    "id": "rjB0LFeaks9B"
   },
   "source": [
    "\n",
    "\n",
    "> By reducing the number of epochs to 4 and adding dropout layers we could reach the highest accuracy comparing to other models which we have tried today. 89%.\n",
    "\n"
   ]
  },
  {
   "cell_type": "code",
   "execution_count": null,
   "metadata": {
    "id": "7SLY5NQVoEPI"
   },
   "outputs": [],
   "source": []
  }
 ],
 "metadata": {
  "colab": {
   "collapsed_sections": [],
   "name": "coursework1.ipynb",
   "provenance": []
  },
  "kernelspec": {
   "display_name": "Python 3",
   "language": "python",
   "name": "python3"
  },
  "language_info": {
   "codemirror_mode": {
    "name": "ipython",
    "version": 3
   },
   "file_extension": ".py",
   "mimetype": "text/x-python",
   "name": "python",
   "nbconvert_exporter": "python",
   "pygments_lexer": "ipython3",
   "version": "3.7.6"
  }
 },
 "nbformat": 4,
 "nbformat_minor": 1
}
